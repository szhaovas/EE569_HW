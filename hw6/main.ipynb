{
 "cells": [
  {
   "cell_type": "code",
   "execution_count": null,
   "metadata": {
    "id": "jhrfz564qGbv"
   },
   "outputs": [],
   "source": [
    "# Clone the entire repo.\n",
    "!git clone -l -s https://github.com/USC-MCL/Channelwise-Saab-Transform.git Saab\n",
    "%cd Saab\n",
    "!ls"
   ]
  },
  {
   "cell_type": "code",
   "execution_count": 1,
   "metadata": {
    "colab": {
     "base_uri": "https://localhost:8080/"
    },
    "id": "ZA8p0AweacTp",
    "outputId": "4f3f417b-03bc-43bb-d22e-22e6b2b59932"
   },
   "outputs": [
    {
     "name": "stdout",
     "output_type": "stream",
     "text": [
      "Mounted at /content/gdrive\n",
      "/content/Saab\n"
     ]
    }
   ],
   "source": [
    "# from google.colab import drive\n",
    "# drive.mount('/content/gdrive')\n",
    "# %cp -r /content/gdrive/MyDrive/Saab .\n",
    "# %cd Saab"
   ]
  },
  {
   "cell_type": "code",
   "execution_count": 2,
   "metadata": {
    "id": "hprxNvhRq3rd"
   },
   "outputs": [],
   "source": [
    "import numpy as np\n",
    "from tensorflow.keras.datasets import mnist,fashion_mnist\n",
    "from skimage.util import view_as_windows\n",
    "from pixelhop import Pixelhop\n",
    "from skimage.measure import block_reduce\n",
    "import xgboost as xgb\n",
    "import warnings, gc\n",
    "import time\n",
    "import pickle\n",
    "from google.colab import files\n",
    "\n",
    "np.random.seed(1)\n",
    "\n",
    "# Preprocess\n",
    "N_Train_Reduced = 10000    # 10000\n",
    "N_Train_Full = 60000     # 50000\n",
    "N_Test = 10000            # 10000\n",
    "\n",
    "BS = 10000 # batch size\n",
    "\n",
    "\n",
    "def shuffle_data(X, y):\n",
    "    shuffle_idx = np.random.permutation(y.size)\n",
    "    X = X[shuffle_idx]\n",
    "    y = y[shuffle_idx]\n",
    "    return X, y\n",
    "\n",
    "\n",
    "def select_balanced_subset(images, labels, use_num_images):\n",
    "    '''\n",
    "    select equal number of images from each classes\n",
    "    '''\n",
    "    num_total, H, W, C = images.shape\n",
    "    num_class = np.unique(labels).size\n",
    "    num_per_class = int(use_num_images / num_class)\n",
    "\n",
    "    # Shuffle\n",
    "    images, labels = shuffle_data(images, labels)\n",
    "\n",
    "    selected_images = np.zeros((use_num_images, H, W, C))\n",
    "    selected_labels = np.zeros(use_num_images)\n",
    "\n",
    "    for i in range(num_class):\n",
    "        selected_images[i * num_per_class:(i + 1) * num_per_class] = images[labels == i][:num_per_class]\n",
    "        selected_labels[i * num_per_class:(i + 1) * num_per_class] = np.ones((num_per_class)) * i\n",
    "\n",
    "    # Shuffle again\n",
    "    selected_images, selected_labels = shuffle_data(selected_images, selected_labels)\n",
    "\n",
    "    return selected_images, selected_labels\n",
    "\n",
    "def Shrink(X, shrinkArg):\n",
    "    nsamp, height, width, nchan = X.shape\n",
    "\n",
    "    #---- max pooling----\n",
    "    pool = shrinkArg['pool']\n",
    "    # TODO: fill in the rest of max pooling\n",
    "    X_processed = block_reduce(X, block_size=(1,pool,pool,1), \\\n",
    "                                func=np.max)\n",
    "\n",
    "    #---- neighborhood construction\n",
    "    win = shrinkArg['win']\n",
    "    stride = shrinkArg['stride']\n",
    "    pad = shrinkArg['pad']\n",
    "    # TODO: fill in the rest of neighborhood construction\n",
    "    if pad > 0:\n",
    "        X_processed = np.pad(X_processed, ((0,0), (pad,pad), \\\n",
    "                                           (pad,pad), (0,0)), 'reflect')\n",
    "        \n",
    "    X_processed = view_as_windows(X_processed, (1,win,win,nchan), \\\n",
    "                                  (1,stride,stride,nchan))\n",
    "    X_processed = X_processed.reshape((X_processed.shape[0], \\\n",
    "                                       X_processed.shape[1], \\\n",
    "                                       X_processed.shape[2], \\\n",
    "                                       -1))\n",
    "\n",
    "    return X_processed\n",
    "\n",
    "# example callback function for how to concate features from different hops\n",
    "def Concat(X, concatArg):\n",
    "    return X\n",
    "\n",
    "def get_feat(X, p2, num_layers=3, batch_size=BS):\n",
    "    batches = [X[i:i+batch_size, ...] for i in range(0, X.shape[0], batch_size)]\n",
    "    \n",
    "    for ib, bat in enumerate(batches):\n",
    "      output = p2.transform_singleHop(bat, layer=0)\n",
    "      \n",
    "      if num_layers>1:\n",
    "          for i in range(num_layers-1):\n",
    "              output = p2.transform_singleHop(output, layer=i+1)\n",
    "      \n",
    "      if ib == 0:\n",
    "        result = output\n",
    "      else:\n",
    "        result = np.vstack([result, output])\n",
    "    \n",
    "    return result\n",
    "\n",
    "def get_model_size(X, p2, num_layers=3, win=5):\n",
    "  size = 0\n",
    "  prev_K = X.shape[-1]\n",
    "  for l in range(num_layers):\n",
    "    eng = p2.Energy[f'Layer{l}']\n",
    "    K = sum([c.size for c in eng])\n",
    "    size += prev_K * win * win * K\n",
    "    prev_K = K\n",
    "  \n",
    "  return size"
   ]
  },
  {
   "cell_type": "code",
   "execution_count": 3,
   "metadata": {
    "id": "E-vvz2kPKi7F"
   },
   "outputs": [],
   "source": [
    "def try_TH(TH, x_train, x_test, x_train_reduced, y_train_reduced, \\\n",
    "            y_train, y_test, cw=True, label='', \\\n",
    "            load_model=True, load_features=True, load_xgb=True):\n",
    "  try:\n",
    "    if load_model:\n",
    "      p2 = Pixelhop(load=True).load(f'{label}_p2_{TH}')\n",
    "      print(f'Model loaded from {label}_p2_{TH}.pkl')\n",
    "    else:\n",
    "      raise Exception\n",
    "  except Exception:\n",
    "    # -----------Module 1: set PixelHop parameters-----------\n",
    "    # TODO: fill in this part\n",
    "    # Layer1 no bias no cwSaab\n",
    "    SaabArgs = [{'num_AC_kernels':-1, 'needBias':False, 'cw':False}, \\\n",
    "                {'num_AC_kernels':-1, 'needBias':True, 'cw':cw}, \\\n",
    "                {'num_AC_kernels':-1, 'needBias':True, 'cw':cw}]\n",
    "    # Layer1 pad2 to get 32by32 no pooling\n",
    "    shrinkArgs = [{'func':Shrink, 'win':5, 'stride':1, 'pool':1, 'pad':2}, \\\n",
    "                  {'func':Shrink, 'win':5, 'stride':1, 'pool':2, 'pad':0}, \\\n",
    "                  {'func':Shrink, 'win':5, 'stride':1, 'pool':2, 'pad':0}]\n",
    "    concatArg = {'func':Concat}\n",
    "\n",
    "    # -----------Module 1: Train PixelHop -----------\n",
    "    # TODO: fill in this part\n",
    "    print(f'Training...TH:{TH}')\n",
    "    if cw:\n",
    "      p2 = Pixelhop(depth=3, TH1=TH, TH2=0.001, SaabArgs=SaabArgs, \\\n",
    "                    shrinkArgs=shrinkArgs, concatArg=concatArg)\n",
    "    else:\n",
    "      p2 = Pixelhop(depth=3, TH1=0.005, TH2=TH, SaabArgs=SaabArgs, \\\n",
    "                    shrinkArgs=shrinkArgs, concatArg=concatArg)\n",
    "    p2.fit(x_train_reduced)\n",
    "    p2.save(f'{label}_p2_{TH}')\n",
    "    print(f'Model saved to {label}_p2_{TH}.pkl')\n",
    "  \n",
    "  try:\n",
    "    if load_features:\n",
    "      with open(f'{label}_train_hop3_feats_{TH}.pkl', 'rb') as f:\n",
    "        train_hop3_feats = pickle.load(f)\n",
    "        print(f'Train Hop3 features loaded from {label}_train_hop3_feats_{TH}.pkl')\n",
    "      with open(f'{label}_test_hop3_feats_{TH}.pkl', 'rb') as f:\n",
    "        test_hop3_feats = pickle.load(f)\n",
    "        print(f'Test Hop3 features loaded from {label}_test_hop3_feats_{TH}.pkl')\n",
    "    else:\n",
    "      raise Exception\n",
    "  except Exception:\n",
    "    # --------- Module 2: get only Hop 3 feature for both training set and testing set -----------\n",
    "    # you can get feature \"batch wise\" and concatenate them if your memory is restricted\n",
    "    print(f'Getting Hop3 features...TH:{TH}')\n",
    "    # TODO: fill in this part\n",
    "    train_hop3_feats = get_feat(x_train, p2)\n",
    "    test_hop3_feats = get_feat(x_test, p2)\n",
    "\n",
    "    # --------- Module 2: standardization\n",
    "    STD = np.std(train_hop3_feats, axis=0, keepdims=1)\n",
    "    train_hop3_feats = train_hop3_feats/STD\n",
    "    test_hop3_feats = test_hop3_feats/STD\n",
    "    with open(f'{label}_train_hop3_feats_{TH}.pkl', 'wb') as f:\n",
    "      pickle.dump(train_hop3_feats, f)\n",
    "      print(f'Train Hop3 features saved to {label}_train_hop3_feats_{TH}.pkl')\n",
    "    with open(f'{label}_test_hop3_feats_{TH}.pkl', 'wb') as f:\n",
    "      pickle.dump(test_hop3_feats, f)\n",
    "      print(f'Test Hop3 features saved to {label}_test_hop3_feats_{TH}.pkl')\n",
    "\n",
    "  ntrain, ntest = train_hop3_feats.shape[0], test_hop3_feats.shape[0]\n",
    "  reshaped_train_hop3_feats = train_hop3_feats.reshape((ntrain, -1))\n",
    "  reshaped_test_hop3_feats = test_hop3_feats.reshape((ntest, -1))\n",
    "  try:\n",
    "    if load_xgb:\n",
    "      with open(f'{label}_xgb_{TH}.pkl', 'rb') as f:\n",
    "        clf = pickle.load(f)\n",
    "        print(f'xgb loaded from {label}_xgb_{TH}.pkl')\n",
    "    else:\n",
    "      raise Exception\n",
    "  except Exception:\n",
    "  #---------- Module 3: Train XGBoost classifier on hop3 feature ---------\n",
    "    clf = xgb.XGBClassifier(n_jobs=-1,\n",
    "                        objective='multi:softprob',\n",
    "                        tree_method='gpu_hist', gpu_id=0,\n",
    "                        max_depth=6,n_estimators=100,\n",
    "                        min_child_weight=5,gamma=5,\n",
    "                        subsample=0.8,learning_rate=0.1,\n",
    "                        nthread=8,colsample_bytree=1.0)\n",
    "    \n",
    "    print(f'Fitting xgb...TH:{TH}')\n",
    "    clf.fit(reshaped_train_hop3_feats, y_train)\n",
    "    with open(f'{label}_xgb_{TH}.pkl', 'wb') as f:\n",
    "      pickle.dump(clf, f)\n",
    "      print(f'xgb saved to {label}_xgb_{TH}.pkl')\n",
    "\n",
    "  train_predictions = clf.predict(reshaped_train_hop3_feats)\n",
    "  test_predictions = clf.predict(reshaped_test_hop3_feats)\n",
    "  \n",
    "  train_accuracy = np.sum(train_predictions == y_train) / ntrain\n",
    "  test_accuracy = np.sum(test_predictions == y_test) / ntest\n",
    "  \n",
    "  return train_accuracy, test_accuracy"
   ]
  },
  {
   "cell_type": "code",
   "execution_count": 4,
   "metadata": {
    "colab": {
     "base_uri": "https://localhost:8080/"
    },
    "id": "S4vRwuCK-puM",
    "outputId": "fcde992b-c2a7-4a6f-ee7b-f34cc54919cb"
   },
   "outputs": [
    {
     "name": "stdout",
     "output_type": "stream",
     "text": [
      "Downloading data from https://storage.googleapis.com/tensorflow/tf-keras-datasets/mnist.npz\n",
      "11493376/11490434 [==============================] - 0s 0us/step\n",
      "11501568/11490434 [==============================] - 0s 0us/step\n"
     ]
    }
   ],
   "source": [
    "warnings.filterwarnings(\"ignore\")\n",
    "# ---------- Load MNIST data and split ----------\n",
    "(mnist_x_train, mnist_y_train), (mnist_x_test, mnist_y_test) = mnist.load_data()\n",
    "\n",
    "\n",
    "# -----------Data Preprocessing-----------\n",
    "mnist_x_train = np.asarray(mnist_x_train,dtype='float32')[:,:,:,np.newaxis]\n",
    "mnist_x_test = np.asarray(mnist_x_test,dtype='float32')[:,:,:,np.newaxis]\n",
    "mnist_y_train = np.asarray(mnist_y_train,dtype='int')\n",
    "mnist_y_test = np.asarray(mnist_y_test,dtype='int')\n",
    "\n",
    "# if use only 10000 images train pixelhop\n",
    "mnist_x_train_reduced, mnist_y_train_reduced = \\\n",
    "  select_balanced_subset(mnist_x_train, mnist_y_train, \\\n",
    "                         use_num_images=N_Train_Reduced)\n",
    "  \n",
    "mnist_x_train /= 255.0\n",
    "mnist_x_test /= 255.0"
   ]
  },
  {
   "cell_type": "code",
   "execution_count": 5,
   "metadata": {
    "colab": {
     "base_uri": "https://localhost:8080/"
    },
    "id": "bofnwh-KBvyn",
    "outputId": "5c6ed8da-d06e-4303-93bf-e14307ddfab6"
   },
   "outputs": [
    {
     "name": "stdout",
     "output_type": "stream",
     "text": [
      "Model loaded from mnist_p2_0.0001.pkl\n",
      "Train Hop3 features loaded from mnist_train_hop3_feats_0.0001.pkl\n",
      "Test Hop3 features loaded from mnist_test_hop3_feats_0.0001.pkl\n",
      "xgb loaded from mnist_xgb_0.0001.pkl\n",
      "Model loaded from mnist_p2_0.0005623413251903491.pkl\n",
      "Train Hop3 features loaded from mnist_train_hop3_feats_0.0005623413251903491.pkl\n",
      "Test Hop3 features loaded from mnist_test_hop3_feats_0.0005623413251903491.pkl\n",
      "xgb loaded from mnist_xgb_0.0005623413251903491.pkl\n",
      "Model loaded from mnist_p2_0.0031622776601683794.pkl\n",
      "Train Hop3 features loaded from mnist_train_hop3_feats_0.0031622776601683794.pkl\n",
      "Test Hop3 features loaded from mnist_test_hop3_feats_0.0031622776601683794.pkl\n",
      "xgb loaded from mnist_xgb_0.0031622776601683794.pkl\n",
      "Model loaded from mnist_p2_0.01778279410038923.pkl\n",
      "Train Hop3 features loaded from mnist_train_hop3_feats_0.01778279410038923.pkl\n",
      "Test Hop3 features loaded from mnist_test_hop3_feats_0.01778279410038923.pkl\n",
      "xgb loaded from mnist_xgb_0.01778279410038923.pkl\n",
      "Model loaded from mnist_p2_0.1.pkl\n",
      "Train Hop3 features loaded from mnist_train_hop3_feats_0.1.pkl\n",
      "Test Hop3 features loaded from mnist_test_hop3_feats_0.1.pkl\n",
      "xgb loaded from mnist_xgb_0.1.pkl\n"
     ]
    }
   ],
   "source": [
    "mnist_TH1 = np.logspace(-4, -1, 5)\n",
    "mnist_tr_acc, mnist_te_acc = map(list,zip(*[try_TH(t, mnist_x_train, mnist_x_test, \\\n",
    "                                        mnist_x_train_reduced, mnist_y_train_reduced, \\\n",
    "                                        mnist_y_train, mnist_y_test, label='mnist') for t in mnist_TH1]))"
   ]
  },
  {
   "cell_type": "code",
   "execution_count": 6,
   "metadata": {
    "colab": {
     "base_uri": "https://localhost:8080/"
    },
    "id": "6nR_Atgbjdi1",
    "outputId": "268ffdee-27ab-4eba-bd22-f37251bd553c"
   },
   "outputs": [
    {
     "data": {
      "text/plain": [
       "[0.9962166666666666, 0.9962166666666666, 0.9962166666666666, 0.9893, 0.9556]"
      ]
     },
     "execution_count": 6,
     "metadata": {},
     "output_type": "execute_result"
    }
   ],
   "source": [
    "mnist_tr_acc"
   ]
  },
  {
   "cell_type": "code",
   "execution_count": 7,
   "metadata": {
    "colab": {
     "base_uri": "https://localhost:8080/"
    },
    "id": "E3dRrTuQd9Fx",
    "outputId": "fa7d924f-f9dc-4cea-811f-f248ad0639bc"
   },
   "outputs": [
    {
     "data": {
      "text/plain": [
       "[0.9731, 0.9731, 0.9731, 0.957, 0.9154]"
      ]
     },
     "execution_count": 7,
     "metadata": {},
     "output_type": "execute_result"
    }
   ],
   "source": [
    "mnist_te_acc"
   ]
  },
  {
   "cell_type": "code",
   "execution_count": 8,
   "metadata": {
    "colab": {
     "base_uri": "https://localhost:8080/"
    },
    "id": "BYu7TNTcwRto",
    "outputId": "206022dd-b0f4-4655-8d0d-ec5ac961c4e4"
   },
   "outputs": [
    {
     "data": {
      "text/plain": [
       "[422975, 422975, 422975, 223850, 54650]"
      ]
     },
     "execution_count": 8,
     "metadata": {},
     "output_type": "execute_result"
    }
   ],
   "source": [
    "mnist_model_sizes = []\n",
    "for TH in mnist_TH1:\n",
    "  p2 = Pixelhop(load=True).load(f'mnist_p2_{TH}')\n",
    "  mnist_model_sizes.append(get_model_size(mnist_x_train, p2))\n",
    "\n",
    "mnist_model_sizes"
   ]
  },
  {
   "cell_type": "code",
   "execution_count": 9,
   "metadata": {
    "colab": {
     "base_uri": "https://localhost:8080/"
    },
    "id": "jelbH5gk2zXU",
    "outputId": "2d538238-4d49-4953-9984-e409403a697e"
   },
   "outputs": [
    {
     "name": "stdout",
     "output_type": "stream",
     "text": [
      "Model loaded from mnist_ncw_p2_0.008.pkl\n",
      "Train Hop3 features loaded from mnist_ncw_train_hop3_feats_0.008.pkl\n",
      "Test Hop3 features loaded from mnist_ncw_test_hop3_feats_0.008.pkl\n",
      "xgb loaded from mnist_ncw_xgb_0.008.pkl\n",
      "Model loaded from mnist_ncw_p2_0.011962790249769765.pkl\n",
      "Train Hop3 features loaded from mnist_ncw_train_hop3_feats_0.011962790249769765.pkl\n",
      "Test Hop3 features loaded from mnist_ncw_test_hop3_feats_0.011962790249769765.pkl\n",
      "xgb loaded from mnist_ncw_xgb_0.011962790249769765.pkl\n",
      "Model loaded from mnist_ncw_p2_0.01788854381999832.pkl\n",
      "Train Hop3 features loaded from mnist_ncw_train_hop3_feats_0.01788854381999832.pkl\n",
      "Test Hop3 features loaded from mnist_ncw_test_hop3_feats_0.01788854381999832.pkl\n",
      "xgb loaded from mnist_ncw_xgb_0.01788854381999832.pkl\n",
      "Model loaded from mnist_ncw_p2_0.02674961219905688.pkl\n",
      "Train Hop3 features loaded from mnist_ncw_train_hop3_feats_0.02674961219905688.pkl\n",
      "Test Hop3 features loaded from mnist_ncw_test_hop3_feats_0.02674961219905688.pkl\n",
      "xgb loaded from mnist_ncw_xgb_0.02674961219905688.pkl\n",
      "Model loaded from mnist_ncw_p2_0.04.pkl\n",
      "Train Hop3 features loaded from mnist_ncw_train_hop3_feats_0.04.pkl\n",
      "Test Hop3 features loaded from mnist_ncw_test_hop3_feats_0.04.pkl\n",
      "xgb loaded from mnist_ncw_xgb_0.04.pkl\n"
     ]
    }
   ],
   "source": [
    "mnist_TH2 = np.logspace(-3, -2, 5, base=5)\n",
    "mnist_tr_acc_ncw, mnist_te_acc_ncw = map(list,zip(*[try_TH(t, mnist_x_train, mnist_x_test, \\\n",
    "                                        mnist_x_train_reduced, mnist_y_train_reduced, \\\n",
    "                                        mnist_y_train, mnist_y_test, cw=False, label='mnist_ncw') for t in mnist_TH2]))"
   ]
  },
  {
   "cell_type": "code",
   "execution_count": 10,
   "metadata": {
    "colab": {
     "base_uri": "https://localhost:8080/"
    },
    "id": "mDdGZ11Jjh_d",
    "outputId": "ff793d74-7cff-4209-d792-a1883a0d65ae"
   },
   "outputs": [
    {
     "data": {
      "text/plain": [
       "[0.9804833333333334, 0.97535, 0.9673166666666667, 0.9456166666666667, 0.89965]"
      ]
     },
     "execution_count": 10,
     "metadata": {},
     "output_type": "execute_result"
    }
   ],
   "source": [
    "mnist_tr_acc_ncw"
   ]
  },
  {
   "cell_type": "code",
   "execution_count": 32,
   "metadata": {
    "colab": {
     "base_uri": "https://localhost:8080/"
    },
    "id": "Igh_w1WleKAy",
    "outputId": "b1f76f9a-6060-429b-b5e0-e3501ac65dcb"
   },
   "outputs": [
    {
     "data": {
      "text/plain": [
       "[0.9516, 0.9442, 0.9335, 0.9108, 0.8639]"
      ]
     },
     "execution_count": 32,
     "metadata": {},
     "output_type": "execute_result"
    }
   ],
   "source": [
    "mnist_te_acc_ncw"
   ]
  },
  {
   "cell_type": "code",
   "execution_count": 12,
   "metadata": {
    "colab": {
     "base_uri": "https://localhost:8080/"
    },
    "id": "bxlb77F2xcRF",
    "outputId": "5d74a7cb-93fb-4bac-9ec6-733f9686991d"
   },
   "outputs": [
    {
     "data": {
      "text/plain": [
       "[13775, 9200, 5875, 3525, 2225]"
      ]
     },
     "execution_count": 12,
     "metadata": {},
     "output_type": "execute_result"
    }
   ],
   "source": [
    "mnist_ncw_model_sizes = []\n",
    "for TH in mnist_TH2:\n",
    "  p2 = Pixelhop(load=True).load(f'mnist_ncw_p2_{TH}')\n",
    "  mnist_ncw_model_sizes.append(get_model_size(mnist_x_train, p2))\n",
    "\n",
    "mnist_ncw_model_sizes"
   ]
  },
  {
   "cell_type": "code",
   "execution_count": 13,
   "metadata": {
    "colab": {
     "base_uri": "https://localhost:8080/"
    },
    "id": "4T3vTUzcyg7I",
    "outputId": "f82b235c-3e03-435a-e6b9-3974db6c85dc"
   },
   "outputs": [
    {
     "name": "stdout",
     "output_type": "stream",
     "text": [
      "Downloading data from https://storage.googleapis.com/tensorflow/tf-keras-datasets/train-labels-idx1-ubyte.gz\n",
      "32768/29515 [=================================] - 0s 0us/step\n",
      "40960/29515 [=========================================] - 0s 0us/step\n",
      "Downloading data from https://storage.googleapis.com/tensorflow/tf-keras-datasets/train-images-idx3-ubyte.gz\n",
      "26427392/26421880 [==============================] - 0s 0us/step\n",
      "26435584/26421880 [==============================] - 0s 0us/step\n",
      "Downloading data from https://storage.googleapis.com/tensorflow/tf-keras-datasets/t10k-labels-idx1-ubyte.gz\n",
      "16384/5148 [===============================================================================================] - 0s 0us/step\n",
      "Downloading data from https://storage.googleapis.com/tensorflow/tf-keras-datasets/t10k-images-idx3-ubyte.gz\n",
      "4423680/4422102 [==============================] - 0s 0us/step\n",
      "4431872/4422102 [==============================] - 0s 0us/step\n"
     ]
    }
   ],
   "source": [
    "warnings.filterwarnings(\"ignore\")\n",
    "# ---------- Load MNIST data and split ----------\n",
    "(fashion_x_train, fashion_y_train), (fashion_x_test, fashion_y_test) = \\\n",
    "  fashion_mnist.load_data()\n",
    "\n",
    "\n",
    "# -----------Data Preprocessing-----------\n",
    "fashion_x_train = np.asarray(fashion_x_train,dtype='float32')[:,:,:,np.newaxis]\n",
    "fashion_x_test = np.asarray(fashion_x_test,dtype='float32')[:,:,:,np.newaxis]\n",
    "fashion_y_train = np.asarray(fashion_y_train,dtype='int')\n",
    "fashion_y_test = np.asarray(fashion_y_test,dtype='int')\n",
    "\n",
    "# if use only 10000 images train pixelhop\n",
    "fashion_x_train_reduced, fashion_y_train_reduced = \\\n",
    "  select_balanced_subset(fashion_x_train, fashion_y_train, \\\n",
    "                         use_num_images=N_Train_Reduced)\n",
    "  \n",
    "fashion_x_train /= 255.0\n",
    "fashion_x_test /= 255.0"
   ]
  },
  {
   "cell_type": "code",
   "execution_count": 14,
   "metadata": {
    "colab": {
     "base_uri": "https://localhost:8080/"
    },
    "id": "P32d7y8C-w86",
    "outputId": "a10c82db-8e2c-4111-9e18-e77b5d0a8b0b"
   },
   "outputs": [
    {
     "name": "stdout",
     "output_type": "stream",
     "text": [
      "Model loaded from fashion_p2_0.0001.pkl\n",
      "Train Hop3 features loaded from fashion_train_hop3_feats_0.0001.pkl\n",
      "Test Hop3 features loaded from fashion_test_hop3_feats_0.0001.pkl\n",
      "xgb loaded from fashion_xgb_0.0001.pkl\n",
      "Model loaded from fashion_p2_0.0005623413251903491.pkl\n",
      "Train Hop3 features loaded from fashion_train_hop3_feats_0.0005623413251903491.pkl\n",
      "Test Hop3 features loaded from fashion_test_hop3_feats_0.0005623413251903491.pkl\n",
      "xgb loaded from fashion_xgb_0.0005623413251903491.pkl\n",
      "Model loaded from fashion_p2_0.0031622776601683794.pkl\n",
      "Train Hop3 features loaded from fashion_train_hop3_feats_0.0031622776601683794.pkl\n",
      "Test Hop3 features loaded from fashion_test_hop3_feats_0.0031622776601683794.pkl\n",
      "xgb loaded from fashion_xgb_0.0031622776601683794.pkl\n",
      "Model loaded from fashion_p2_0.01778279410038923.pkl\n",
      "Train Hop3 features loaded from fashion_train_hop3_feats_0.01778279410038923.pkl\n",
      "Test Hop3 features loaded from fashion_test_hop3_feats_0.01778279410038923.pkl\n",
      "xgb loaded from fashion_xgb_0.01778279410038923.pkl\n",
      "Model loaded from fashion_p2_0.1.pkl\n",
      "Train Hop3 features loaded from fashion_train_hop3_feats_0.1.pkl\n",
      "Test Hop3 features loaded from fashion_test_hop3_feats_0.1.pkl\n",
      "xgb loaded from fashion_xgb_0.1.pkl\n"
     ]
    }
   ],
   "source": [
    "fashion_TH1 = np.logspace(-4, -1, 5)\n",
    "fashion_tr_acc, fashion_te_acc = map(list,zip(*[try_TH(t, fashion_x_train, fashion_x_test, \\\n",
    "                                        fashion_x_train_reduced, fashion_y_train_reduced, \\\n",
    "                                        fashion_y_train, fashion_y_test, label='fashion') for t in fashion_TH1]))"
   ]
  },
  {
   "cell_type": "code",
   "execution_count": 15,
   "metadata": {
    "colab": {
     "base_uri": "https://localhost:8080/"
    },
    "id": "OXHsF41bjlW4",
    "outputId": "f56d3a36-49c7-4a3f-b028-a5167bb343bc"
   },
   "outputs": [
    {
     "data": {
      "text/plain": [
       "[0.9291666666666667, 0.9291666666666667, 0.9265, 0.9037, 0.8565666666666667]"
      ]
     },
     "execution_count": 15,
     "metadata": {},
     "output_type": "execute_result"
    }
   ],
   "source": [
    "fashion_tr_acc"
   ]
  },
  {
   "cell_type": "code",
   "execution_count": 16,
   "metadata": {
    "colab": {
     "base_uri": "https://localhost:8080/"
    },
    "id": "LBgOjry3q6Cd",
    "outputId": "5873b126-981f-4e5e-f7fb-f59e656e40d7"
   },
   "outputs": [
    {
     "data": {
      "text/plain": [
       "[0.8623, 0.8623, 0.8614, 0.8399, 0.801]"
      ]
     },
     "execution_count": 16,
     "metadata": {},
     "output_type": "execute_result"
    }
   ],
   "source": [
    "fashion_te_acc"
   ]
  },
  {
   "cell_type": "code",
   "execution_count": 17,
   "metadata": {
    "colab": {
     "base_uri": "https://localhost:8080/"
    },
    "id": "grXY8hSexxak",
    "outputId": "d7a8cf97-b238-4742-d3c2-3f2184a86828"
   },
   "outputs": [
    {
     "data": {
      "text/plain": [
       "[151025, 151025, 145125, 64575, 20075]"
      ]
     },
     "execution_count": 17,
     "metadata": {},
     "output_type": "execute_result"
    }
   ],
   "source": [
    "fashion_model_sizes = []\n",
    "for TH in fashion_TH1:\n",
    "  p2 = Pixelhop(load=True).load(f'fashion_p2_{TH}')\n",
    "  fashion_model_sizes.append(get_model_size(fashion_x_train, p2))\n",
    "\n",
    "fashion_model_sizes"
   ]
  },
  {
   "cell_type": "code",
   "execution_count": 18,
   "metadata": {
    "colab": {
     "base_uri": "https://localhost:8080/"
    },
    "id": "QXTSZSPj1ROw",
    "outputId": "d1324283-7ca0-4f35-faa0-4bae184f600f"
   },
   "outputs": [
    {
     "name": "stdout",
     "output_type": "stream",
     "text": [
      "Model loaded from fashion_ncw_p2_0.008.pkl\n",
      "Train Hop3 features loaded from fashion_ncw_train_hop3_feats_0.008.pkl\n",
      "Test Hop3 features loaded from fashion_ncw_test_hop3_feats_0.008.pkl\n",
      "xgb loaded from fashion_ncw_xgb_0.008.pkl\n",
      "Model loaded from fashion_ncw_p2_0.011962790249769765.pkl\n",
      "Train Hop3 features loaded from fashion_ncw_train_hop3_feats_0.011962790249769765.pkl\n",
      "Test Hop3 features loaded from fashion_ncw_test_hop3_feats_0.011962790249769765.pkl\n",
      "xgb loaded from fashion_ncw_xgb_0.011962790249769765.pkl\n",
      "Model loaded from fashion_ncw_p2_0.01788854381999832.pkl\n",
      "Train Hop3 features loaded from fashion_ncw_train_hop3_feats_0.01788854381999832.pkl\n",
      "Test Hop3 features loaded from fashion_ncw_test_hop3_feats_0.01788854381999832.pkl\n",
      "xgb loaded from fashion_ncw_xgb_0.01788854381999832.pkl\n",
      "Model loaded from fashion_ncw_p2_0.02674961219905688.pkl\n",
      "Train Hop3 features loaded from fashion_ncw_train_hop3_feats_0.02674961219905688.pkl\n",
      "Test Hop3 features loaded from fashion_ncw_test_hop3_feats_0.02674961219905688.pkl\n",
      "xgb loaded from fashion_ncw_xgb_0.02674961219905688.pkl\n",
      "Model loaded from fashion_ncw_p2_0.04.pkl\n",
      "Train Hop3 features loaded from fashion_ncw_train_hop3_feats_0.04.pkl\n",
      "Test Hop3 features loaded from fashion_ncw_test_hop3_feats_0.04.pkl\n",
      "xgb loaded from fashion_ncw_xgb_0.04.pkl\n"
     ]
    }
   ],
   "source": [
    "fashion_TH2 = np.logspace(-3, -2, 5, base=5)\n",
    "fashion_tr_acc_ncw, fashion_te_acc_ncw = map(list,zip(*[try_TH(t, fashion_x_train, fashion_x_test, \\\n",
    "                                        fashion_x_train_reduced, fashion_y_train_reduced, \\\n",
    "                                        fashion_y_train, fashion_y_test, cw=False, label='fashion_ncw') for t in fashion_TH2]))"
   ]
  },
  {
   "cell_type": "code",
   "execution_count": 19,
   "metadata": {
    "colab": {
     "base_uri": "https://localhost:8080/"
    },
    "id": "PfTktzftv97_",
    "outputId": "e48f8bc1-632c-44cb-daa3-c3f57383b4c8"
   },
   "outputs": [
    {
     "data": {
      "text/plain": [
       "[0.8599833333333333,\n",
       " 0.8478666666666667,\n",
       " 0.8214166666666667,\n",
       " 0.76295,\n",
       " 0.7618833333333334]"
      ]
     },
     "execution_count": 19,
     "metadata": {},
     "output_type": "execute_result"
    }
   ],
   "source": [
    "fashion_tr_acc_ncw"
   ]
  },
  {
   "cell_type": "code",
   "execution_count": 20,
   "metadata": {
    "colab": {
     "base_uri": "https://localhost:8080/"
    },
    "id": "HHmJzTj_znNk",
    "outputId": "6b771c5a-9664-4bfc-a4bb-044ce5a959bb"
   },
   "outputs": [
    {
     "data": {
      "text/plain": [
       "[0.8162, 0.8012, 0.7762, 0.7215, 0.7233]"
      ]
     },
     "execution_count": 20,
     "metadata": {},
     "output_type": "execute_result"
    }
   ],
   "source": [
    "fashion_te_acc_ncw"
   ]
  },
  {
   "cell_type": "code",
   "execution_count": 21,
   "metadata": {
    "colab": {
     "base_uri": "https://localhost:8080/"
    },
    "id": "luAC0mb5x93T",
    "outputId": "bae02ab1-f21c-453a-d9f6-d2e5549699ae"
   },
   "outputs": [
    {
     "data": {
      "text/plain": [
       "[6225, 3525, 2225, 1450, 875]"
      ]
     },
     "execution_count": 21,
     "metadata": {},
     "output_type": "execute_result"
    }
   ],
   "source": [
    "fashion_ncw_model_sizes = []\n",
    "for TH in fashion_TH2:\n",
    "  p2 = Pixelhop(load=True).load(f'fashion_ncw_p2_{TH}')\n",
    "  fashion_ncw_model_sizes.append(get_model_size(fashion_x_train, p2))\n",
    "\n",
    "fashion_ncw_model_sizes"
   ]
  },
  {
   "cell_type": "code",
   "execution_count": 22,
   "metadata": {
    "colab": {
     "base_uri": "https://localhost:8080/",
     "height": 624
    },
    "id": "hHh9LPAfXqGZ",
    "outputId": "db419a50-4598-4f82-c95e-2a9b680a887f"
   },
   "outputs": [
    {
     "data": {
      "text/plain": [
       "<matplotlib.legend.Legend at 0x7f76d6a407d0>"
      ]
     },
     "execution_count": 22,
     "metadata": {},
     "output_type": "execute_result"
    },
    {
     "data": {
      "image/png": "[encoded data removed]",
      "text/plain": [
       "<Figure size 1440x720 with 1 Axes>"
      ]
     },
     "metadata": {
      "needs_background": "light"
     },
     "output_type": "display_data"
    }
   ],
   "source": [
    "from matplotlib import pyplot as plt\n",
    "\n",
    "plt.figure(figsize=(20,10))\n",
    "plt.plot(mnist_TH1, mnist_te_acc, label='MNIST')\n",
    "plt.plot(mnist_TH1, fashion_te_acc, label='Fashion-MNIST')\n",
    "plt.ylabel('testing accuracy')\n",
    "plt.xlabel('TH1')\n",
    "plt.legend(loc='upper right')"
   ]
  },
  {
   "cell_type": "code",
   "execution_count": 23,
   "metadata": {
    "colab": {
     "base_uri": "https://localhost:8080/",
     "height": 624
    },
    "id": "flOnwiv5NmDZ",
    "outputId": "98acb25b-1621-4db8-d9cd-bd992502b550"
   },
   "outputs": [
    {
     "data": {
      "text/plain": [
       "<matplotlib.legend.Legend at 0x7f76d653ee50>"
      ]
     },
     "execution_count": 23,
     "metadata": {},
     "output_type": "execute_result"
    },
    {
     "data": {
      "image/png": "[encoded data removed]",
      "text/plain": [
       "<Figure size 1440x720 with 1 Axes>"
      ]
     },
     "metadata": {
      "needs_background": "light"
     },
     "output_type": "display_data"
    }
   ],
   "source": [
    "plt.figure(figsize=(20,10))\n",
    "plt.plot(mnist_TH2, mnist_te_acc_ncw, label='MNIST test')\n",
    "plt.plot(mnist_TH2, mnist_tr_acc_ncw, label='MNIST train')\n",
    "plt.plot(mnist_TH2, fashion_te_acc_ncw, label='Fashion-MNIST test')\n",
    "plt.plot(mnist_TH2, fashion_tr_acc_ncw, label='Fashion-MNIST train')\n",
    "plt.ylabel('accuracy')\n",
    "plt.xlabel('TH2')\n",
    "plt.legend(loc='upper right')"
   ]
  },
  {
   "cell_type": "code",
   "execution_count": 24,
   "metadata": {
    "colab": {
     "base_uri": "https://localhost:8080/"
    },
    "id": "puL5c-bZ5AOG",
    "outputId": "407e35a2-dc43-42d3-b841-76c03b48ee5a"
   },
   "outputs": [
    {
     "name": "stdout",
     "output_type": "stream",
     "text": [
      "Model loaded from mnist_comp_p2_0.008.pkl\n",
      "Train Hop3 features loaded from mnist_comp_train_hop3_feats_0.008.pkl\n",
      "Test Hop3 features loaded from mnist_comp_test_hop3_feats_0.008.pkl\n",
      "Model loaded from mnist_comp_p2_0.011962790249769765.pkl\n",
      "Train Hop3 features loaded from mnist_comp_train_hop3_feats_0.011962790249769765.pkl\n",
      "Test Hop3 features loaded from mnist_comp_test_hop3_feats_0.011962790249769765.pkl\n",
      "Model loaded from mnist_comp_p2_0.01788854381999832.pkl\n",
      "Train Hop3 features loaded from mnist_comp_train_hop3_feats_0.01788854381999832.pkl\n",
      "Test Hop3 features loaded from mnist_comp_test_hop3_feats_0.01788854381999832.pkl\n",
      "Model loaded from mnist_comp_p2_0.02674961219905688.pkl\n",
      "Train Hop3 features loaded from mnist_comp_train_hop3_feats_0.02674961219905688.pkl\n",
      "Test Hop3 features loaded from mnist_comp_test_hop3_feats_0.02674961219905688.pkl\n",
      "Model loaded from mnist_comp_p2_0.04.pkl\n",
      "Train Hop3 features loaded from mnist_comp_train_hop3_feats_0.04.pkl\n",
      "Test Hop3 features loaded from mnist_comp_test_hop3_feats_0.04.pkl\n"
     ]
    }
   ],
   "source": [
    "mnist_tr_acc_comp, mnist_te_acc_comp = [], []\n",
    "for i, TH in enumerate(mnist_TH2):\n",
    "  try:\n",
    "    p2 = Pixelhop(load=True).load(f'mnist_comp_p2_{TH}')\n",
    "    print(f'Model loaded from mnist_comp_p2_{TH}.pkl')\n",
    "  except Exception:\n",
    "    SaabArgs = [{'num_AC_kernels':-1, 'needBias':False, 'cw':False}, \\\n",
    "                {'num_AC_kernels':-1, 'needBias':True, 'cw':True}, \\\n",
    "                {'num_AC_kernels':-1, 'needBias':True, 'cw':True}]\n",
    "    shrinkArgs = [{'func':Shrink, 'win':5, 'stride':1, 'pool':1, 'pad':2}, \\\n",
    "                  {'func':Shrink, 'win':5, 'stride':1, 'pool':2, 'pad':0}, \\\n",
    "                  {'func':Shrink, 'win':5, 'stride':1, 'pool':2, 'pad':0}]\n",
    "    concatArg = {'func':Concat}\n",
    "\n",
    "    print(f'Training...TH:{TH}')\n",
    "    p2 = Pixelhop(depth=3, TH1=0.005, TH2=TH, SaabArgs=SaabArgs, \\\n",
    "                  shrinkArgs=shrinkArgs, concatArg=concatArg)\n",
    "    p2.fit(mnist_x_train_reduced)\n",
    "    p2.save(f'mnist_comp_p2_{TH}')\n",
    "    print(f'Model saved to mnist_comp_p2_{TH}.pkl')\n",
    "\n",
    "  try:\n",
    "    with open(f'mnist_comp_train_hop3_feats_{TH}.pkl', 'rb') as f:\n",
    "      train_hop3_feats = pickle.load(f)\n",
    "      print(f'Train Hop3 features loaded from mnist_comp_train_hop3_feats_{TH}.pkl')\n",
    "    with open(f'mnist_comp_test_hop3_feats_{TH}.pkl', 'rb') as f:\n",
    "      test_hop3_feats = pickle.load(f)\n",
    "      print(f'Test Hop3 features loaded from mnist_comp_test_hop3_feats_{TH}.pkl')\n",
    "  except Exception:\n",
    "    print(f'Getting Hop3 features...TH:{TH}')\n",
    "    train_hop3_feats = get_feat(mnist_x_train, p2)\n",
    "    test_hop3_feats = get_feat(mnist_x_test, p2)\n",
    "\n",
    "    STD = np.std(train_hop3_feats, axis=0, keepdims=1)\n",
    "    train_hop3_feats = train_hop3_feats/STD\n",
    "    test_hop3_feats = test_hop3_feats/STD\n",
    "    with open(f'mnist_comp_train_hop3_feats_{TH}.pkl', 'wb') as f:\n",
    "      pickle.dump(train_hop3_feats, f)\n",
    "      print(f'Train Hop3 features saved to mnist_comp_train_hop3_feats_{TH}.pkl')\n",
    "    with open(f'mnist_comp_test_hop3_feats_{TH}.pkl', 'wb') as f:\n",
    "      pickle.dump(test_hop3_feats, f)\n",
    "      print(f'Test Hop3 features saved to mnist_comp_test_hop3_feats_{TH}.pkl')\n",
    "\n",
    "  ntrain, ntest = train_hop3_feats.shape[0], test_hop3_feats.shape[0]\n",
    "  reshaped_train_hop3_feats = train_hop3_feats.reshape((ntrain, -1))\n",
    "  reshaped_test_hop3_feats = test_hop3_feats.reshape((ntest, -1))\n",
    "  \n",
    "  clf = xgb.XGBClassifier(n_jobs=-1,\n",
    "          objective='multi:softprob',\n",
    "          tree_method='gpu_hist', gpu_id=0,\n",
    "          max_depth=6,n_estimators=100,\n",
    "          min_child_weight=5,gamma=5,\n",
    "          subsample=0.8,learning_rate=0.1,\n",
    "          nthread=8,colsample_bytree=1.0)\n",
    "  clf.fit(reshaped_train_hop3_feats, mnist_y_train)\n",
    "  train_predictions = clf.predict(reshaped_train_hop3_feats)\n",
    "  test_predictions = clf.predict(reshaped_test_hop3_feats)\n",
    "  \n",
    "  train_accuracy = np.sum(train_predictions == mnist_y_train) / ntrain\n",
    "  test_accuracy = np.sum(test_predictions == mnist_y_test) / ntest\n",
    "  \n",
    "  mnist_tr_acc_comp.append(train_accuracy)\n",
    "  mnist_te_acc_comp.append(test_accuracy)"
   ]
  },
  {
   "cell_type": "code",
   "execution_count": 25,
   "metadata": {
    "colab": {
     "base_uri": "https://localhost:8080/"
    },
    "id": "I7p-lGvbcmnH",
    "outputId": "58315d7c-08e9-4f96-9049-4aeb18903af6"
   },
   "outputs": [
    {
     "data": {
      "text/plain": [
       "[0.9303666666666667, 0.88155, 0.6964, 0.34308333333333335, 0.34308333333333335]"
      ]
     },
     "execution_count": 25,
     "metadata": {},
     "output_type": "execute_result"
    }
   ],
   "source": [
    "mnist_tr_acc_comp"
   ]
  },
  {
   "cell_type": "code",
   "execution_count": 26,
   "metadata": {
    "colab": {
     "base_uri": "https://localhost:8080/"
    },
    "id": "f0ILpiH1cooM",
    "outputId": "a423e10e-da8b-4989-9bd9-0250c9f7b8d4"
   },
   "outputs": [
    {
     "data": {
      "text/plain": [
       "[0.8891, 0.833, 0.6467, 0.3178, 0.3178]"
      ]
     },
     "execution_count": 26,
     "metadata": {},
     "output_type": "execute_result"
    }
   ],
   "source": [
    "mnist_te_acc_comp"
   ]
  },
  {
   "cell_type": "code",
   "execution_count": 27,
   "metadata": {
    "colab": {
     "base_uri": "https://localhost:8080/"
    },
    "id": "LvIK-V6IctN4",
    "outputId": "9722361d-a43a-4154-cb10-2e1328079c2f"
   },
   "outputs": [
    {
     "data": {
      "text/plain": [
       "[13275, 7000, 2575, 1150, 650]"
      ]
     },
     "execution_count": 27,
     "metadata": {},
     "output_type": "execute_result"
    }
   ],
   "source": [
    "mnist_comp_model_sizes = []\n",
    "for TH in mnist_TH2:\n",
    "  p2 = Pixelhop(load=True).load(f'mnist_comp_p2_{TH}')\n",
    "  mnist_comp_model_sizes.append(get_model_size(mnist_x_train, p2))\n",
    "\n",
    "mnist_comp_model_sizes"
   ]
  },
  {
   "cell_type": "code",
   "execution_count": 28,
   "metadata": {
    "colab": {
     "base_uri": "https://localhost:8080/"
    },
    "id": "-OmYIn_M-Sur",
    "outputId": "576bf944-0c83-447b-c3a6-2f7f479becea"
   },
   "outputs": [
    {
     "name": "stdout",
     "output_type": "stream",
     "text": [
      "Model loaded from fashion_comp_p2_0.008.pkl\n",
      "Train Hop3 features loaded from fashion_comp_train_hop3_feats_0.008.pkl\n",
      "Test Hop3 features loaded from fashion_comp_test_hop3_feats_0.008.pkl\n",
      "Model loaded from fashion_comp_p2_0.011962790249769765.pkl\n",
      "Train Hop3 features loaded from fashion_comp_train_hop3_feats_0.011962790249769765.pkl\n",
      "Test Hop3 features loaded from fashion_comp_test_hop3_feats_0.011962790249769765.pkl\n",
      "Model loaded from fashion_comp_p2_0.01788854381999832.pkl\n",
      "Train Hop3 features loaded from fashion_comp_train_hop3_feats_0.01788854381999832.pkl\n",
      "Test Hop3 features loaded from fashion_comp_test_hop3_feats_0.01788854381999832.pkl\n",
      "Model loaded from fashion_comp_p2_0.02674961219905688.pkl\n",
      "Train Hop3 features loaded from fashion_comp_train_hop3_feats_0.02674961219905688.pkl\n",
      "Test Hop3 features loaded from fashion_comp_test_hop3_feats_0.02674961219905688.pkl\n",
      "Model loaded from fashion_comp_p2_0.04.pkl\n",
      "Train Hop3 features loaded from fashion_comp_train_hop3_feats_0.04.pkl\n",
      "Test Hop3 features loaded from fashion_comp_test_hop3_feats_0.04.pkl\n"
     ]
    }
   ],
   "source": [
    "fashion_tr_acc_comp, fashion_te_acc_comp = [], []\n",
    "for i, TH in enumerate(fashion_TH2):\n",
    "  try:\n",
    "    p2 = Pixelhop(load=True).load(f'fashion_comp_p2_{TH}')\n",
    "    print(f'Model loaded from fashion_comp_p2_{TH}.pkl')\n",
    "  except Exception:\n",
    "    SaabArgs = [{'num_AC_kernels':-1, 'needBias':False, 'cw':False}, \\\n",
    "                {'num_AC_kernels':-1, 'needBias':True, 'cw':True}, \\\n",
    "                {'num_AC_kernels':-1, 'needBias':True, 'cw':True}]\n",
    "    shrinkArgs = [{'func':Shrink, 'win':5, 'stride':1, 'pool':1, 'pad':2}, \\\n",
    "                  {'func':Shrink, 'win':5, 'stride':1, 'pool':2, 'pad':0}, \\\n",
    "                  {'func':Shrink, 'win':5, 'stride':1, 'pool':2, 'pad':0}]\n",
    "    concatArg = {'func':Concat}\n",
    "\n",
    "    print(f'Training...TH:{TH}')\n",
    "    p2 = Pixelhop(depth=3, TH1=0.005, TH2=TH, SaabArgs=SaabArgs, \\\n",
    "                  shrinkArgs=shrinkArgs, concatArg=concatArg)\n",
    "    p2.fit(fashion_x_train_reduced)\n",
    "    p2.save(f'fashion_comp_p2_{TH}')\n",
    "    print(f'Model saved to fashion_comp_p2_{TH}.pkl')\n",
    "\n",
    "  try:\n",
    "    with open(f'fashion_comp_train_hop3_feats_{TH}.pkl', 'rb') as f:\n",
    "      train_hop3_feats = pickle.load(f)\n",
    "      print(f'Train Hop3 features loaded from fashion_comp_train_hop3_feats_{TH}.pkl')\n",
    "    with open(f'fashion_comp_test_hop3_feats_{TH}.pkl', 'rb') as f:\n",
    "      test_hop3_feats = pickle.load(f)\n",
    "      print(f'Test Hop3 features loaded from fashion_comp_test_hop3_feats_{TH}.pkl')\n",
    "  except Exception:\n",
    "    print(f'Getting Hop3 features...TH:{TH}')\n",
    "    train_hop3_feats = get_feat(fashion_x_train, p2)\n",
    "    test_hop3_feats = get_feat(fashion_x_test, p2)\n",
    "\n",
    "    STD = np.std(train_hop3_feats, axis=0, keepdims=1)\n",
    "    train_hop3_feats = train_hop3_feats/STD\n",
    "    test_hop3_feats = test_hop3_feats/STD\n",
    "    with open(f'fashion_comp_train_hop3_feats_{TH}.pkl', 'wb') as f:\n",
    "      pickle.dump(train_hop3_feats, f)\n",
    "      print(f'Train Hop3 features saved to fashion_comp_train_hop3_feats_{TH}.pkl')\n",
    "    with open(f'fashion_comp_test_hop3_feats_{TH}.pkl', 'wb') as f:\n",
    "      pickle.dump(test_hop3_feats, f)\n",
    "      print(f'Test Hop3 features saved to fashion_comp_test_hop3_feats_{TH}.pkl')\n",
    "\n",
    "  ntrain, ntest = train_hop3_feats.shape[0], test_hop3_feats.shape[0]\n",
    "  reshaped_train_hop3_feats = train_hop3_feats.reshape((ntrain, -1))\n",
    "  reshaped_test_hop3_feats = test_hop3_feats.reshape((ntest, -1))\n",
    "  \n",
    "  clf = xgb.XGBClassifier(n_jobs=-1,\n",
    "          objective='multi:softprob',\n",
    "          tree_method='gpu_hist', gpu_id=0,\n",
    "          max_depth=6,n_estimators=100,\n",
    "          min_child_weight=5,gamma=5,\n",
    "          subsample=0.8,learning_rate=0.1,\n",
    "          nthread=8,colsample_bytree=1.0)\n",
    "  clf.fit(reshaped_train_hop3_feats, fashion_y_train)\n",
    "  train_predictions = clf.predict(reshaped_train_hop3_feats)\n",
    "  test_predictions = clf.predict(reshaped_test_hop3_feats)\n",
    "  \n",
    "  train_accuracy = np.sum(train_predictions == fashion_y_train) / ntrain\n",
    "  test_accuracy = np.sum(test_predictions == fashion_y_test) / ntest\n",
    "  \n",
    "  fashion_tr_acc_comp.append(train_accuracy)\n",
    "  fashion_te_acc_comp.append(test_accuracy)"
   ]
  },
  {
   "cell_type": "code",
   "execution_count": 29,
   "metadata": {
    "colab": {
     "base_uri": "https://localhost:8080/"
    },
    "id": "QeXKmDrOg5KI",
    "outputId": "2e6a4406-3b8c-4320-b391-ca831f3b5bd2"
   },
   "outputs": [
    {
     "data": {
      "text/plain": [
       "[0.8348833333333333,\n",
       " 0.8026666666666666,\n",
       " 0.7775,\n",
       " 0.7119166666666666,\n",
       " 0.7119166666666666]"
      ]
     },
     "execution_count": 29,
     "metadata": {},
     "output_type": "execute_result"
    }
   ],
   "source": [
    "fashion_tr_acc_comp"
   ]
  },
  {
   "cell_type": "code",
   "execution_count": 30,
   "metadata": {
    "colab": {
     "base_uri": "https://localhost:8080/"
    },
    "id": "elRHiSEJg5eG",
    "outputId": "ff383e69-b876-4848-ae5c-5ade5434f19f"
   },
   "outputs": [
    {
     "data": {
      "text/plain": [
       "[0.78, 0.7584, 0.7362, 0.6811, 0.6811]"
      ]
     },
     "execution_count": 30,
     "metadata": {},
     "output_type": "execute_result"
    }
   ],
   "source": [
    "fashion_te_acc_comp"
   ]
  },
  {
   "cell_type": "code",
   "execution_count": 31,
   "metadata": {
    "colab": {
     "base_uri": "https://localhost:8080/"
    },
    "id": "ll8bUub8g5t6",
    "outputId": "0f729aec-7734-43a4-ea55-a11b1ab0bcc8"
   },
   "outputs": [
    {
     "data": {
      "text/plain": [
       "[7425, 3750, 1775, 900, 600]"
      ]
     },
     "execution_count": 31,
     "metadata": {},
     "output_type": "execute_result"
    }
   ],
   "source": [
    "fashion_comp_model_sizes = []\n",
    "for TH in fashion_TH2:\n",
    "  p2 = Pixelhop(load=True).load(f'fashion_comp_p2_{TH}')\n",
    "  fashion_comp_model_sizes.append(get_model_size(fashion_x_train, p2))\n",
    "\n",
    "fashion_comp_model_sizes"
   ]
  },
  {
   "cell_type": "code",
   "execution_count": null,
   "metadata": {
    "id": "g8BC8IBFOGHC"
   },
   "outputs": [],
   "source": [
    "# _, (mnist_ax, fashion_ax) = plt.subplots(1, 2, figsize=(20,10))\n",
    "# mnist_ax.plot(mnist_TH2, mnist_te_acc_ncw, label='test')\n",
    "# mnist_ax.plot(mnist_TH2, mnist_tr_acc_ncw, label='train')\n",
    "# mnist_ax.set_ylabel('accuracy')\n",
    "# mnist_ax.set_xlabel('TH2')\n",
    "# mnist_ax.legend(loc='upper right')\n",
    "# mnist_ax.title.set_text('MNIST')\n",
    "# fashion_ax.plot(fashion_TH2, fashion_te_acc_ncw, label='test')\n",
    "# fashion_ax.plot(fashion_TH2, fashion_tr_acc_ncw, label='train')\n",
    "# fashion_ax.set_ylabel('accuracy')\n",
    "# fashion_ax.set_xlabel('TH2')\n",
    "# fashion_ax.legend(loc='upper right')\n",
    "# fashion_ax.title.set_text('Fashion-MNIST')"
   ]
  },
  {
   "cell_type": "code",
   "execution_count": 37,
   "metadata": {
    "colab": {
     "base_uri": "https://localhost:8080/",
     "height": 621
    },
    "id": "3W1E1vkf-tSm",
    "outputId": "e487ea7e-eee7-4621-e399-0883028f21d4"
   },
   "outputs": [
    {
     "data": {
      "image/png": "[encoded data removed]",
      "text/plain": [
       "<Figure size 1440x720 with 2 Axes>"
      ]
     },
     "metadata": {
      "needs_background": "light"
     },
     "output_type": "display_data"
    }
   ],
   "source": [
    "_, (mnist_ax_comp, fashion_ax_comp) = plt.subplots(1, 2, figsize=(20,10))\n",
    "mnist_ax_comp.plot(mnist_TH2, mnist_te_acc_ncw, label='ncw test')\n",
    "mnist_ax_comp.plot(mnist_TH2, mnist_tr_acc_ncw, label='ncw train')\n",
    "mnist_ax_comp.plot(mnist_TH2, mnist_te_acc_comp, label='cw test')\n",
    "mnist_ax_comp.plot(mnist_TH2, mnist_tr_acc_comp, label='cw train')\n",
    "mnist_ax_comp.set_ylabel('accuracy')\n",
    "mnist_ax_comp.set_xlabel('TH2')\n",
    "mnist_ax_comp.legend(loc='upper right')\n",
    "mnist_ax_comp.title.set_text('MNIST')\n",
    "\n",
    "fashion_ax_comp.plot(fashion_TH2, fashion_te_acc_ncw, label='ncw test')\n",
    "fashion_ax_comp.plot(fashion_TH2, fashion_tr_acc_ncw, label='ncw train')\n",
    "fashion_ax_comp.plot(fashion_TH2, fashion_te_acc_comp, label='cw test')\n",
    "fashion_ax_comp.plot(fashion_TH2, fashion_tr_acc_comp, label='cw train')\n",
    "fashion_ax_comp.set_ylabel('accuracy')\n",
    "fashion_ax_comp.set_xlabel('TH2')\n",
    "fashion_ax_comp.legend(loc='upper right')\n",
    "fashion_ax_comp.title.set_text('Fashion-MNIST')"
   ]
  },
  {
   "cell_type": "code",
   "execution_count": 39,
   "metadata": {
    "colab": {
     "base_uri": "https://localhost:8080/",
     "height": 1000
    },
    "id": "MGisTxX0d5cD",
    "outputId": "09b3d6c8-1c7e-4197-de72-9180281ce51f"
   },
   "outputs": [
    {
     "name": "stdout",
     "output_type": "stream",
     "text": [
      "0.990 & 0.000 & 0.001 & 0.000 & 0.000 & 0.004 & 0.002 & 0.001 & 0.002 & 0.000 \\\\\n",
      "0.000 & 0.994 & 0.003 & 0.000 & 0.000 & 0.001 & 0.000 & 0.000 & 0.002 & 0.001 \\\\\n",
      "0.003 & 0.000 & 0.975 & 0.003 & 0.001 & 0.001 & 0.002 & 0.012 & 0.004 & 0.000 \\\\\n",
      "0.000 & 0.000 & 0.009 & 0.969 & 0.000 & 0.006 & 0.000 & 0.007 & 0.006 & 0.003 \\\\\n",
      "0.000 & 0.000 & 0.002 & 0.000 & 0.976 & 0.000 & 0.005 & 0.000 & 0.002 & 0.015 \\\\\n",
      "0.004 & 0.000 & 0.001 & 0.015 & 0.001 & 0.966 & 0.003 & 0.001 & 0.006 & 0.002 \\\\\n",
      "0.004 & 0.003 & 0.002 & 0.000 & 0.002 & 0.003 & 0.982 & 0.000 & 0.003 & 0.000 \\\\\n",
      "0.000 & 0.003 & 0.014 & 0.004 & 0.001 & 0.001 & 0.000 & 0.954 & 0.001 & 0.022 \\\\\n",
      "0.001 & 0.000 & 0.002 & 0.007 & 0.005 & 0.006 & 0.002 & 0.003 & 0.970 & 0.003 \\\\\n",
      "0.002 & 0.002 & 0.000 & 0.006 & 0.015 & 0.009 & 0.002 & 0.007 & 0.005 & 0.952\n"
     ]
    },
    {
     "data": {
      "image/png": "[encoded data removed]",
      "text/plain": [
       "<Figure size 1440x720 with 2 Axes>"
      ]
     },
     "metadata": {
      "needs_background": "light"
     },
     "output_type": "display_data"
    },
    {
     "data": {
      "image/png": "[encoded data removed]",
      "text/plain": [
       "<Figure size 1440x720 with 3 Axes>"
      ]
     },
     "metadata": {
      "needs_background": "light"
     },
     "output_type": "display_data"
    }
   ],
   "source": [
    "with open(f'mnist_test_hop3_feats_{mnist_TH1[0]}.pkl', 'rb') as feats, open(f'mnist_xgb_{mnist_TH1[0]}.pkl', 'rb') as x:\n",
    "  test_hop3_feats = pickle.load(feats)\n",
    "  reshaped_test_hop3_feats = test_hop3_feats.reshape((test_hop3_feats.shape[0], -1))\n",
    "  \n",
    "  clf = pickle.load(x)\n",
    "  test_predictions = clf.predict(reshaped_test_hop3_feats)\n",
    "  \n",
    "  confusion_matrix = np.zeros((10, 10))\n",
    "  for pred, truth in zip(test_predictions, mnist_y_test):\n",
    "      # rows are actual labels; columns are predicted labels\n",
    "      confusion_matrix[truth, pred] += 1\n",
    "\n",
    "  scaled_confusion_matrix = np.zeros((10, 10))\n",
    "  for r in range(10):\n",
    "      scaled_confusion_matrix[r,:] = confusion_matrix[r,:] / np.sum(confusion_matrix, axis=1)[r]\n",
    "\n",
    "  print(\" \\\\\\\\\\n\".join([\" & \".join(map('{0:.3f}'.format, line)) for line in scaled_confusion_matrix]))\n",
    "\n",
    "  for d in range(10):\n",
    "      scaled_confusion_matrix[d,d] = 0\n",
    "\n",
    "  fig, ax = plt.subplots(figsize=(20,10))\n",
    "  heatmap = ax.pcolor(scaled_confusion_matrix, cmap=plt.cm.Blues)\n",
    "  for r in range(10):\n",
    "      for c in range(10):\n",
    "          if r == c:\n",
    "              continue\n",
    "          ax.text(\n",
    "              c + 0.5, r + 0.5, int(confusion_matrix[r,c]),\n",
    "              horizontalalignment='center',\n",
    "              verticalalignment='center'\n",
    "          )\n",
    "\n",
    "  ax.set_xlabel('Predicted Labels')\n",
    "  ax.xaxis.set_label_position('top')\n",
    "  ax.set_ylabel('Ground Truths')\n",
    "  fig.colorbar(heatmap)\n",
    "\n",
    "  ax.set_xticks(np.arange(10) + 0.5, minor=False)\n",
    "  ax.set_yticks(np.arange(10) + 0.5, minor=False)\n",
    "\n",
    "  ax.invert_yaxis()\n",
    "  ax.xaxis.tick_top()\n",
    "\n",
    "  ax.set_xticklabels([i for i in range(10)], minor=False)\n",
    "  ax.set_yticklabels([i for i in range(10)], minor=False)\n",
    "\n",
    "  fig.show()\n",
    "\n",
    "  fig2, axs = plt.subplots(1, 3, figsize=(20,10))\n",
    "  for i in range(3):\n",
    "      truth, pred = np.where(scaled_confusion_matrix == np.max(scaled_confusion_matrix))\n",
    "      truth = truth[0]\n",
    "      pred = pred[0]\n",
    "      images = mnist_x_test[(test_predictions != mnist_y_test) & (mnist_y_test == truth) & (test_predictions == pred), :, :, :]\n",
    "      axs[i].imshow(images[0,:,:,:].squeeze())\n",
    "      axs[i].axis('off')\n",
    "      axs[i].set_title('truth:{} pred:{}'.format(truth, pred))\n",
    "      scaled_confusion_matrix[truth, pred] = 0\n",
    "  fig2.show()"
   ]
  },
  {
   "cell_type": "code",
   "execution_count": 42,
   "metadata": {
    "colab": {
     "base_uri": "https://localhost:8080/",
     "height": 1000
    },
    "id": "ziU1wBlEHXDi",
    "outputId": "6f36dd3e-92d7-48e6-f98a-e4a773ae8313"
   },
   "outputs": [
    {
     "name": "stdout",
     "output_type": "stream",
     "text": [
      "0.848 & 0.000 & 0.016 & 0.033 & 0.003 & 0.002 & 0.087 & 0.000 & 0.011 & 0.000 \\\\\n",
      "0.003 & 0.964 & 0.003 & 0.024 & 0.003 & 0.000 & 0.001 & 0.000 & 0.002 & 0.000 \\\\\n",
      "0.013 & 0.000 & 0.758 & 0.014 & 0.105 & 0.000 & 0.104 & 0.000 & 0.006 & 0.000 \\\\\n",
      "0.031 & 0.005 & 0.011 & 0.876 & 0.030 & 0.001 & 0.041 & 0.000 & 0.005 & 0.000 \\\\\n",
      "0.000 & 0.000 & 0.085 & 0.034 & 0.805 & 0.000 & 0.070 & 0.000 & 0.006 & 0.000 \\\\\n",
      "0.000 & 0.000 & 0.000 & 0.001 & 0.000 & 0.944 & 0.000 & 0.038 & 0.000 & 0.017 \\\\\n",
      "0.164 & 0.000 & 0.108 & 0.030 & 0.100 & 0.000 & 0.583 & 0.000 & 0.015 & 0.000 \\\\\n",
      "0.000 & 0.000 & 0.000 & 0.000 & 0.000 & 0.033 & 0.000 & 0.928 & 0.000 & 0.039 \\\\\n",
      "0.003 & 0.000 & 0.005 & 0.005 & 0.002 & 0.006 & 0.008 & 0.003 & 0.967 & 0.001 \\\\\n",
      "0.001 & 0.000 & 0.000 & 0.000 & 0.000 & 0.011 & 0.000 & 0.038 & 0.000 & 0.950\n"
     ]
    },
    {
     "data": {
      "image/png": "[encoded data removed]",
      "text/plain": [
       "<Figure size 1440x720 with 2 Axes>"
      ]
     },
     "metadata": {
      "needs_background": "light"
     },
     "output_type": "display_data"
    },
    {
     "data": {
      "image/png": "[encoded data removed]",
      "text/plain": [
       "<Figure size 1440x720 with 3 Axes>"
      ]
     },
     "metadata": {
      "needs_background": "light"
     },
     "output_type": "display_data"
    }
   ],
   "source": [
    "classes = [\n",
    "    'T-shirt',\n",
    "    'Trouser',\n",
    "    'Pullover',\n",
    "    'Dress',\n",
    "    'Coat',\n",
    "    'Sandal',\n",
    "    'Shirt',\n",
    "    'Sneaker',\n",
    "    'Bag',\n",
    "    'Ankle boot'\n",
    "]\n",
    "\n",
    "with open(f'fashion_test_hop3_feats_{fashion_TH1[0]}.pkl', 'rb') as feats, open(f'fashion_xgb_{fashion_TH1[0]}.pkl', 'rb') as x:\n",
    "  test_hop3_feats = pickle.load(feats)\n",
    "  reshaped_test_hop3_feats = test_hop3_feats.reshape((test_hop3_feats.shape[0], -1))\n",
    "  \n",
    "  clf = pickle.load(x)\n",
    "  test_predictions = clf.predict(reshaped_test_hop3_feats)\n",
    "  \n",
    "  confusion_matrix = np.zeros((10, 10))\n",
    "  for pred, truth in zip(test_predictions, fashion_y_test):\n",
    "      # rows are actual labels; columns are predicted labels\n",
    "      confusion_matrix[truth, pred] += 1\n",
    "\n",
    "  scaled_confusion_matrix = np.zeros((10, 10))\n",
    "  for r in range(10):\n",
    "      scaled_confusion_matrix[r,:] = confusion_matrix[r,:] / np.sum(confusion_matrix, axis=1)[r]\n",
    "\n",
    "  print(\" \\\\\\\\\\n\".join([\" & \".join(map('{0:.3f}'.format, line)) for line in scaled_confusion_matrix]))\n",
    "\n",
    "  for d in range(10):\n",
    "      scaled_confusion_matrix[d,d] = 0\n",
    "\n",
    "  fig, ax = plt.subplots(figsize=(20,10))\n",
    "  heatmap = ax.pcolor(scaled_confusion_matrix, cmap=plt.cm.Blues)\n",
    "  for r in range(10):\n",
    "      for c in range(10):\n",
    "          if r == c:\n",
    "              continue\n",
    "          ax.text(\n",
    "              c + 0.5, r + 0.5, int(confusion_matrix[r,c]),\n",
    "              horizontalalignment='center',\n",
    "              verticalalignment='center'\n",
    "          )\n",
    "\n",
    "  ax.set_xlabel('Predicted Labels')\n",
    "  ax.xaxis.set_label_position('top')\n",
    "  ax.set_ylabel('Ground Truths')\n",
    "  fig.colorbar(heatmap)\n",
    "\n",
    "  ax.set_xticks(np.arange(10) + 0.5, minor=False)\n",
    "  ax.set_yticks(np.arange(10) + 0.5, minor=False)\n",
    "\n",
    "  ax.invert_yaxis()\n",
    "  ax.xaxis.tick_top()\n",
    "\n",
    "  ax.set_xticklabels(classes, minor=False)\n",
    "  ax.set_yticklabels(classes, minor=False)\n",
    "\n",
    "  fig.show()\n",
    "\n",
    "  fig2, axs = plt.subplots(1, 3, figsize=(20,10))\n",
    "  for i in range(3):\n",
    "      truth, pred = np.where(scaled_confusion_matrix == np.max(scaled_confusion_matrix))\n",
    "      truth = truth[0]\n",
    "      pred = pred[0]\n",
    "      images = fashion_x_test[(test_predictions != fashion_y_test) & (fashion_y_test == truth) & (test_predictions == pred), :, :, :]\n",
    "      axs[i].imshow(images[0,:,:,:].squeeze())\n",
    "      axs[i].axis('off')\n",
    "      axs[i].set_title('truth:{} pred:{}'.format(classes[truth], classes[pred]))\n",
    "      scaled_confusion_matrix[truth, pred] = 0\n",
    "  fig2.show()"
   ]
  },
  {
   "cell_type": "code",
   "execution_count": null,
   "metadata": {
    "id": "Z6g0ey_Yxdwf"
   },
   "outputs": [],
   "source": [
    "# import os\n",
    "# for f in os.listdir():\n",
    "#   if '.pkl' in f:\n",
    "#     files.download(f)"
   ]
  },
  {
   "cell_type": "code",
   "execution_count": null,
   "metadata": {
    "id": "OlhW__LKeLqy"
   },
   "outputs": [],
   "source": [
    "# %cd ..\n",
    "# %rm -r Saab"
   ]
  },
  {
   "cell_type": "code",
   "execution_count": null,
   "metadata": {
    "id": "elPvlreiztBT"
   },
   "outputs": [],
   "source": [
    "# from google.colab import drive\n",
    "# drive.mount('/content/gdrive')\n",
    "# %cd ..\n",
    "# %cp -r Saab gdrive/MyDrive"
   ]
  },
  {
   "cell_type": "code",
   "execution_count": null,
   "metadata": {
    "colab": {
     "base_uri": "https://localhost:8080/",
     "height": 35
    },
    "id": "EJbTwWG-7BGE",
    "outputId": "5f9dc85a-1cb1-4247-999e-2aa72f4e7bb7"
   },
   "outputs": [
    {
     "data": {
      "application/vnd.google.colaboratory.intrinsic+json": {
       "type": "string"
      },
      "text/plain": [
       "'/content/Saab'"
      ]
     },
     "execution_count": 43,
     "metadata": {},
     "output_type": "execute_result"
    }
   ],
   "source": [
    "%pwd"
   ]
  },
  {
   "cell_type": "code",
   "execution_count": null,
   "metadata": {
    "colab": {
     "base_uri": "https://localhost:8080/"
    },
    "id": "xDPceLi6aSkm",
    "outputId": "b22c2c37-ce66-40c6-a617-102436c17a1c"
   },
   "outputs": [
    {
     "name": "stdout",
     "output_type": "stream",
     "text": [
      "cwSaab.py\n",
      "fashion_ncw_p2_0.008.pkl\n",
      "fashion_ncw_p2_0.011962790249769765.pkl\n",
      "fashion_ncw_p2_0.01788854381999832.pkl\n",
      "fashion_ncw_p2_0.02674961219905688.pkl\n",
      "fashion_ncw_p2_0.04.pkl\n",
      "fashion_ncw_test_hop3_feats_0.008.pkl\n",
      "fashion_ncw_test_hop3_feats_0.011962790249769765.pkl\n",
      "fashion_ncw_test_hop3_feats_0.01788854381999832.pkl\n",
      "fashion_ncw_test_hop3_feats_0.02674961219905688.pkl\n",
      "fashion_ncw_test_hop3_feats_0.04.pkl\n",
      "fashion_ncw_train_hop3_feats_0.008.pkl\n",
      "fashion_ncw_train_hop3_feats_0.011962790249769765.pkl\n",
      "fashion_ncw_train_hop3_feats_0.01788854381999832.pkl\n",
      "fashion_ncw_train_hop3_feats_0.02674961219905688.pkl\n",
      "fashion_ncw_train_hop3_feats_0.04.pkl\n",
      "fashion_ncw_xgb_0.008.json\n",
      "fashion_ncw_xgb_0.008.pkl\n",
      "fashion_ncw_xgb_0.011962790249769765.json\n",
      "fashion_ncw_xgb_0.011962790249769765.pkl\n",
      "fashion_ncw_xgb_0.01788854381999832.json\n",
      "fashion_ncw_xgb_0.01788854381999832.pkl\n",
      "fashion_ncw_xgb_0.02674961219905688.json\n",
      "fashion_ncw_xgb_0.02674961219905688.pkl\n",
      "fashion_ncw_xgb_0.04.json\n",
      "fashion_ncw_xgb_0.04.pkl\n",
      "fashion_p2_0.0001.pkl\n",
      "fashion_p2_0.0005623413251903491.pkl\n",
      "fashion_p2_0.0031622776601683794.pkl\n",
      "fashion_p2_0.01778279410038923.pkl\n",
      "fashion_p2_0.1.pkl\n",
      "fashion_test_hop3_feats_0.0001.pkl\n",
      "fashion_test_hop3_feats_0.0005623413251903491.pkl\n",
      "fashion_test_hop3_feats_0.0031622776601683794.pkl\n",
      "fashion_test_hop3_feats_0.01778279410038923.pkl\n",
      "fashion_test_hop3_feats_0.1.pkl\n",
      "fashion_train_hop3_feats_0.0001.pkl\n",
      "fashion_train_hop3_feats_0.0005623413251903491.pkl\n",
      "fashion_train_hop3_feats_0.0031622776601683794.pkl\n",
      "fashion_train_hop3_feats_0.01778279410038923.pkl\n",
      "fashion_train_hop3_feats_0.1.pkl\n",
      "fashion_xgb_0.0001.json\n",
      "fashion_xgb_0.0001.pkl\n",
      "fashion_xgb_0.0005623413251903491.json\n",
      "fashion_xgb_0.0005623413251903491.pkl\n",
      "fashion_xgb_0.0031622776601683794.json\n",
      "fashion_xgb_0.0031622776601683794.pkl\n",
      "fashion_xgb_0.01778279410038923.json\n",
      "fashion_xgb_0.01778279410038923.pkl\n",
      "fashion_xgb_0.1.json\n",
      "fashion_xgb_0.1.pkl\n",
      "main.py\n",
      "mnist_comp_p2_0.008.pkl\n",
      "mnist_comp_p2_0.011962790249769765.pkl\n",
      "mnist_comp_p2_0.01788854381999832.pkl\n",
      "mnist_comp_test_hop3_feats_0.008.pkl\n",
      "mnist_comp_test_hop3_feats_0.011962790249769765.pkl\n",
      "mnist_comp_train_hop3_feats_0.008.pkl\n",
      "mnist_comp_train_hop3_feats_0.011962790249769765.pkl\n",
      "mnist_ncw_p2_0.008.pkl\n",
      "mnist_ncw_p2_0.011962790249769765.pkl\n",
      "mnist_ncw_p2_0.01788854381999832.pkl\n",
      "mnist_ncw_p2_0.02674961219905688.pkl\n",
      "mnist_ncw_p2_0.04.pkl\n",
      "mnist_ncw_test_hop3_feats_0.008.pkl\n",
      "mnist_ncw_test_hop3_feats_0.011962790249769765.pkl\n",
      "mnist_ncw_test_hop3_feats_0.01788854381999832.pkl\n",
      "mnist_ncw_test_hop3_feats_0.02674961219905688.pkl\n",
      "mnist_ncw_test_hop3_feats_0.04.pkl\n",
      "mnist_ncw_train_hop3_feats_0.008.pkl\n",
      "mnist_ncw_train_hop3_feats_0.011962790249769765.pkl\n",
      "mnist_ncw_train_hop3_feats_0.01788854381999832.pkl\n",
      "mnist_ncw_train_hop3_feats_0.02674961219905688.pkl\n",
      "mnist_ncw_train_hop3_feats_0.04.pkl\n",
      "mnist_ncw_xgb_0.008.json\n",
      "mnist_ncw_xgb_0.008.pkl\n",
      "mnist_ncw_xgb_0.011962790249769765.json\n",
      "mnist_ncw_xgb_0.011962790249769765.pkl\n",
      "mnist_ncw_xgb_0.01788854381999832.json\n",
      "mnist_ncw_xgb_0.01788854381999832.pkl\n",
      "mnist_ncw_xgb_0.02674961219905688.json\n",
      "mnist_ncw_xgb_0.02674961219905688.pkl\n",
      "mnist_ncw_xgb_0.04.json\n",
      "mnist_ncw_xgb_0.04.pkl\n",
      "mnist_p2_0.0001.pkl\n",
      "mnist_p2_0.00031622776601683794.pkl\n",
      "mnist_p2_0.0005623413251903491.pkl\n",
      "mnist_p2_0.001.pkl\n",
      "mnist_p2_0.0031622776601683794.pkl\n",
      "mnist_p2_0.01778279410038923.pkl\n",
      "mnist_p2_0.01.pkl\n",
      "mnist_p2_0.1.pkl\n",
      "mnist_test_hop3_feats_0.0001.pkl\n",
      "mnist_test_hop3_feats_0.00031622776601683794.pkl\n",
      "mnist_test_hop3_feats_0.0005623413251903491.pkl\n",
      "mnist_test_hop3_feats_0.001.pkl\n",
      "mnist_test_hop3_feats_0.0031622776601683794.pkl\n",
      "mnist_test_hop3_feats_0.01778279410038923.pkl\n",
      "mnist_test_hop3_feats_0.01.pkl\n",
      "mnist_test_hop3_feats_0.1.pkl\n",
      "mnist_train_hop3_feats_0.0001.pkl\n",
      "mnist_train_hop3_feats_0.00031622776601683794.pkl\n",
      "mnist_train_hop3_feats_0.0005623413251903491.pkl\n",
      "mnist_train_hop3_feats_0.001.pkl\n",
      "mnist_train_hop3_feats_0.0031622776601683794.pkl\n",
      "mnist_train_hop3_feats_0.01778279410038923.pkl\n",
      "mnist_train_hop3_feats_0.01.pkl\n",
      "mnist_train_hop3_feats_0.1.pkl\n",
      "mnist_xgb_0.0001.json\n",
      "mnist_xgb_0.0001.pkl\n",
      "mnist_xgb_0.00031622776601683794.pkl\n",
      "mnist_xgb_0.0005623413251903491.json\n",
      "mnist_xgb_0.0005623413251903491.pkl\n",
      "mnist_xgb_0.001.pkl\n",
      "mnist_xgb_0.0031622776601683794.json\n",
      "mnist_xgb_0.0031622776601683794.pkl\n",
      "mnist_xgb_0.01778279410038923.json\n",
      "mnist_xgb_0.01778279410038923.pkl\n",
      "mnist_xgb_0.01.pkl\n",
      "mnist_xgb_0.1.json\n",
      "mnist_xgb_0.1.pkl\n",
      "pixelhop.py\n",
      "\u001b[0m\u001b[01;34m__pycache__\u001b[0m/\n",
      "README.md\n",
      "saab.py\n"
     ]
    }
   ],
   "source": [
    "%ls"
   ]
  }
 ],
 "metadata": {
  "accelerator": "GPU",
  "colab": {
   "collapsed_sections": [],
   "name": "main.ipynb",
   "provenance": []
  },
  "kernelspec": {
   "display_name": "Python 3",
   "language": "python",
   "name": "python3"
  },
  "language_info": {
   "codemirror_mode": {
    "name": "ipython",
    "version": 3
   },
   "file_extension": ".py",
   "mimetype": "text/x-python",
   "name": "python",
   "nbconvert_exporter": "python",
   "pygments_lexer": "ipython3",
   "version": "3.9.10"
  }
 },
 "nbformat": 4,
 "nbformat_minor": 1
}
